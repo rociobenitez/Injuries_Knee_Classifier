{
 "cells": [
  {
   "cell_type": "code",
   "execution_count": 1,
   "id": "5b69fc99-4241-43ec-a970-570f03090ce8",
   "metadata": {},
   "outputs": [
    {
     "ename": "ImportError",
     "evalue": "cannot import name 'evaluate_and_plot_model' from 'utils' (unknown location)",
     "output_type": "error",
     "traceback": [
      "\u001b[0;31m---------------------------------------------------------------------------\u001b[0m",
      "\u001b[0;31mImportError\u001b[0m                               Traceback (most recent call last)",
      "Cell \u001b[0;32mIn[1], line 6\u001b[0m\n\u001b[1;32m      3\u001b[0m sys\u001b[38;5;241m.\u001b[39mpath\u001b[38;5;241m.\u001b[39mappend(\u001b[38;5;124m'\u001b[39m\u001b[38;5;124m..\u001b[39m\u001b[38;5;124m'\u001b[39m)\n\u001b[1;32m      5\u001b[0m \u001b[38;5;66;03m# Importación de módulos personalizados para funcionalidades específicas\u001b[39;00m\n\u001b[0;32m----> 6\u001b[0m \u001b[38;5;28;01mfrom\u001b[39;00m \u001b[38;5;21;01mutils\u001b[39;00m \u001b[38;5;28;01mimport\u001b[39;00m evaluate_and_plot_model\n",
      "\u001b[0;31mImportError\u001b[0m: cannot import name 'evaluate_and_plot_model' from 'utils' (unknown location)"
     ]
    }
   ],
   "source": [
    "# Ajustes del sistema y manejo de módulos personalizados\n",
    "import sys\n",
    "sys.path.append('..')\n",
    "\n",
    "# Importación de módulos personalizados para funcionalidades específicas\n",
    "from utils import evaluate_and_plot_model"
   ]
  },
  {
   "cell_type": "code",
   "execution_count": null,
   "id": "1b5424b5-d755-4852-9476-76dbae078a5e",
   "metadata": {},
   "outputs": [],
   "source": [
    "import joblib\n",
    "\n",
    "# Load RandomForest model\n",
    "rf_model = joblib.load('random_forest_model.pkl')\n",
    "\n",
    "# Load BaggingClassifier model\n",
    "bagging_model = joblib.load('bagging_classifier_model.pkl')\n",
    "\n",
    "# Load Gradient Boosting Classifier model\n",
    "gb_model = joblib.load('gbc_model.pkl')"
   ]
  },
  {
   "cell_type": "code",
   "execution_count": null,
   "id": "aaf31d3d-cbfe-4ab6-bc01-c777c0d872d0",
   "metadata": {},
   "outputs": [],
   "source": [
    "# Load data\n",
    "X_train = joblib.load('X_train.pkl')\n",
    "X_test = joblib.load('X_test.pkl')\n",
    "y_train = joblib.load('y_train.pkl')\n",
    "y_test = joblib.load('y_test.pkl')\n",
    "\n",
    "print(\"X_train:\", X_train.shape, \"y_train:\", y_train.shape)\n",
    "print(\"X_test:\", X_test.shape, \"y_test:\", y_test.shape)"
   ]
  },
  {
   "cell_type": "code",
   "execution_count": null,
   "id": "afbbfcb2-b8d3-42d8-9be1-564359fc3ca3",
   "metadata": {},
   "outputs": [],
   "source": [
    "# Define the Selected Features for Each Model\n",
    "rf_features = ['imc', 'total force rate', 'step rate', 'pronation excursion (mp->to)',\n",
    "               'impact gs', 'contact ratio', 'max pronation velocity', 'power',\n",
    "               'stance excursion (fs->mp)', 'vertical spring stiffness', 'braking gs',\n",
    "               'peso', 'pronation excursion', 'footstrike type', 'stance excursion (mp->to)',\n",
    "               'pace', 'step length', 'altura', 'vertical grf rate', 'edad', 'stride angle',\n",
    "               'num calzado', 'shock', 'velocidad', 'tfe', 'fpi_total_d', 'hl', 'thomas tfl',\n",
    "               'genu recurvatum', 'jack no reconstruye']\n",
    "\n",
    "bagging_features = ['imc', 'total force rate', 'step rate', 'pronation excursion (mp->to)',\n",
    "                    'contact ratio', 'footstrike type', 'vertical spring stiffness', 'power',\n",
    "                    'max pronation velocity', 'pronation excursion', 'stance excursion (fs->mp)',\n",
    "                    'braking gs', 'stance excursion (mp->to)', 'edad', 'step length', 'impact gs',\n",
    "                    'pace', 'peso', 'stride angle', 'altura', 'shock', 'vertical grf rate',\n",
    "                    'fpi_total_d', 'num calzado', 'velocidad', 'thomas tfl', 'tfe', 'lunge',\n",
    "                    'arco aplanado', 'jack normal', 'jack no reconstruye', 'thomas psoas', 'tte',\n",
    "                    'genu flexum', 'popliteo', 'genu recurvatum', 'm1 dfx', 'hav', 'pnca rp valgo',\n",
    "                    'hl', 'm1 hipermovil', 'tfi', 'sexo', 'genu valgo', 'genu varo']\n",
    "\n",
    "gb_features = ['imc', 'pronation excursion (mp->to)', 'vertical grf rate',\n",
    "               'max pronation velocity', 'altura', 'pace', 'power', 'step rate',\n",
    "               'stride angle', 'pronation excursion', 'fpi_total_d', 'peso', 'thomas psoas',\n",
    "               'stance excursion (mp->to)', 'braking gs', 'step length', 'edad',\n",
    "               'footstrike type', 'shock', 'jack no reconstruye', 'thomas tfl',\n",
    "               'total force rate', 'hr', 'pnca rp valgo', 'stance excursion (fs->mp)',\n",
    "               'num calzado', 'arco aplanado', 'tfe', 'vertical spring stiffness',\n",
    "               'tibia vara proximal', 'rotula ascendida', 'contact ratio', 'impact gs', 'hl',\n",
    "               'lunge', 'velocidad', 'hav', 'm5 hipermovil', 'ober friccion', 'jack normal',\n",
    "               'm1 hipermovil', 'pronacion no disponible', 'popliteo', 'rotula convergente',\n",
    "               'arco elevado']"
   ]
  },
  {
   "cell_type": "code",
   "execution_count": null,
   "id": "feeec369-58ed-417a-ad91-be792ed96d23",
   "metadata": {},
   "outputs": [],
   "source": [
    "# Create Data Subsets for Each Model\n",
    "X_train_rf = X_train[rf_features]\n",
    "X_test_rf = X_test[rf_features]\n",
    "\n",
    "X_train_bagging = X_train[bagging_features]\n",
    "X_test_bagging = X_test[bagging_features]\n",
    "\n",
    "X_train_gb = X_train[gb_features]\n",
    "X_test_gb = X_test[gb_features]"
   ]
  },
  {
   "cell_type": "code",
   "execution_count": null,
   "id": "82a0b6d3-e80d-4292-b067-12458397a6c1",
   "metadata": {},
   "outputs": [],
   "source": [
    "from sklearn.ensemble import VotingClassifier\n",
    "from sklearn.base import BaseEstimator, ClassifierMixin\n",
    "import numpy as np\n",
    "from sklearn.metrics import classification_report, roc_auc_score\n",
    "\n",
    "class ModelWrapper(BaseEstimator, ClassifierMixin):\n",
    "    def __init__(self, model, features):\n",
    "        self.model = model\n",
    "        self.features = features\n",
    "\n",
    "    def fit(self, X, y):\n",
    "        self.model.fit(X[self.features], y)\n",
    "        return self\n",
    "\n",
    "    def predict(self, X):\n",
    "        return self.model.predict(X[self.features])\n",
    "\n",
    "    def predict_proba(self, X):\n",
    "        return self.model.predict_proba(X[self.features])\n",
    "\n",
    "# Envolver los modelos con las características correspondientes\n",
    "wrapped_rf = ModelWrapper(rf_model, rf_features)\n",
    "wrapped_bagging = ModelWrapper(bagging_model, bagging_features)\n",
    "wrapped_gb = ModelWrapper(gb_model, gb_features)\n",
    "\n",
    "# Crear el VotingClassifier\n",
    "voting_clf = VotingClassifier(\n",
    "    estimators=[\n",
    "        ('rf', wrapped_rf),\n",
    "        ('bagging', wrapped_bagging),\n",
    "        ('gb', wrapped_gb)\n",
    "    ],\n",
    "    voting='soft'  # 'soft' para usar las probabilidades de predicción\n",
    ")\n",
    "\n",
    "# Ajustar el VotingClassifier con las características comunes (en este caso, usamos todas las características)\n",
    "voting_clf.fit(X_train, y_train)\n",
    "\n",
    "# Hacer predicciones y evaluar el modelo\n",
    "y_pred_voting = voting_clf.predict(X_test)\n",
    "print(classification_report(y_test, y_pred_voting))\n",
    "\n",
    "# Calcular y mostrar el AUC-ROC\n",
    "y_prob_voting = voting_clf.predict_proba(X_test)[:, 1]\n",
    "auc_roc_voting = roc_auc_score(y_test, y_prob_voting)\n",
    "print(f\"AUC-ROC: {auc_roc_voting:.4f}\")"
   ]
  },
  {
   "cell_type": "code",
   "execution_count": null,
   "id": "1da411b6-1274-436d-8a62-b3ba4ae0f182",
   "metadata": {},
   "outputs": [],
   "source": [
    "print(\"Train: \",voting_clf .score(X_train,y_train))\n",
    "print(\"Test: \",voting_clf .score(X_test,y_test))"
   ]
  },
  {
   "cell_type": "code",
   "execution_count": null,
   "id": "4a7e8b35-468c-46da-8a36-c40e32c79121",
   "metadata": {},
   "outputs": [],
   "source": [
    "class_names = ['no rodilla', 'rodilla']\n",
    "evaluate_and_plot_model(voting_clf, X_test, y_test, class_names)"
   ]
  }
 ],
 "metadata": {
  "kernelspec": {
   "display_name": "Python 3 (ipykernel)",
   "language": "python",
   "name": "python3"
  },
  "language_info": {
   "codemirror_mode": {
    "name": "ipython",
    "version": 3
   },
   "file_extension": ".py",
   "mimetype": "text/x-python",
   "name": "python",
   "nbconvert_exporter": "python",
   "pygments_lexer": "ipython3",
   "version": "3.11.5"
  }
 },
 "nbformat": 4,
 "nbformat_minor": 5
}
